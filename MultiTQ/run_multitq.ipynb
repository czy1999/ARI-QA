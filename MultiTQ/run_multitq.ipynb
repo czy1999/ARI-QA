{
 "cells": [
  {
   "cell_type": "code",
   "execution_count": 1,
   "id": "452dd390",
   "metadata": {},
   "outputs": [],
   "source": [
    "# (Optional) Set the environment variable 'HF_ENDPOINT' to use the specified endpoint URL.\n",
    "import os\n",
    "os.environ['HF_ENDPOINT'] = 'https://hf-mirror.com'"
   ]
  },
  {
   "cell_type": "code",
   "execution_count": 2,
   "id": "1cb5c286-e155-47c7-8590-8b325057023e",
   "metadata": {},
   "outputs": [],
   "source": [
    "from utils import chatgpt,MultiTQ,calculate_accuracy\n",
    "from prompt import DECISION_INSTRUCTION,EXAMPLES,EXAMPLES_WITH_RATIONALS\n",
    "import tqdm\n",
    "import time\n",
    "from multitq import get_actions,Inference\n",
    "import pickle\n",
    "\n",
    "multitq = MultiTQ()\n",
    "inference = Inference(multitq.kg,multitq.id2text,multitq.rel2text)"
   ]
  },
  {
   "cell_type": "markdown",
   "id": "c61f5727",
   "metadata": {},
   "source": [
    "# Start from new"
   ]
  },
  {
   "cell_type": "code",
   "execution_count": 3,
   "id": "d6325914",
   "metadata": {},
   "outputs": [],
   "source": [
    "inference = Inference(multitq.kg,multitq.id2text,multitq.rel2text,history=[],n_clusters = 10)"
   ]
  },
  {
   "cell_type": "markdown",
   "id": "f17ab09e",
   "metadata": {},
   "source": [
    "# or Load history_dict / inference"
   ]
  },
  {
   "cell_type": "code",
   "execution_count": 4,
   "id": "6868dc8a",
   "metadata": {
    "collapsed": true
   },
   "outputs": [],
   "source": [
    "# # start from history_dict (use method instruct)\n",
    "# with open('./history_dict_sample.pkl','rb') as f:\n",
    "#     history_dict = pickle.load(f)\n",
    "# inference = Inference(multitq.kg,multitq.id2text,multitq.rel2text,history=history_dict,n_clusters = 10)\n"
   ]
  },
  {
   "cell_type": "code",
   "execution_count": 5,
   "id": "0360ec89",
   "metadata": {},
   "outputs": [],
   "source": [
    "## start from the saved inference\n",
    "# with open('xxx.pkl','rb') as f:\n",
    "#     inference = pickle.load(f)\n"
   ]
  },
  {
   "cell_type": "markdown",
   "id": "0d2acd7d",
   "metadata": {},
   "source": [
    "# Inference Step"
   ]
  },
  {
   "cell_type": "code",
   "execution_count": 6,
   "id": "ee1993d8-b466-47e8-9caf-d01f02334d8c",
   "metadata": {
    "scrolled": false
   },
   "outputs": [],
   "source": [
    "def decision(qid):\n",
    "    inference.reset()\n",
    "    attemp = 0\n",
    "    entities = []\n",
    "    max_attemp = 5\n",
    "    q,head_text,rel_text,tail_text,time,event_text,answers = multitq[qid]\n",
    "    print('Question {}:'.format(qid),q)\n",
    "    hit = False\n",
    "    while True:\n",
    "        attemp+=1\n",
    "        choose = get_actions(head_text,rel_text,tail_text,time,event_text,entities,inference.LLM_rel_choose)\n",
    "        # print('All generated actions:',len(choose))\n",
    "        # choose = inference.action_filter(choose)\n",
    "        if len(choose) == 0:\n",
    "            print('Unable to get answer!')\n",
    "            inference.history.append([['Result: Unable to get answer!']])\n",
    "            break\n",
    "        print('-'*100)\n",
    "        print('Step:',inference.tick)\n",
    "        # print('Filtered generated actions:',len(choose))\n",
    "        choose_text = '\\n'.join(choose)\n",
    "        # print(choose_text)\n",
    "\n",
    "        history = ''\n",
    "        for i in inference.history:\n",
    "            history+= '\\n'+ ' '.join(i)\n",
    "        prompt = DECISION_INSTRUCTION.replace('{question}',q)\n",
    "        #prompt = prompt.replace('{examples}',EXAMPLES_WITH_RATIONALS)\n",
    "        prompt = prompt.replace('{actions}',choose_text)\n",
    "        prompt = prompt.replace('{history}',history if len(history)>0 else 'None')\n",
    "        # use method instruct\n",
    "        # prompt = prompt.replace('{methodology}',inference.memory.get_method_instruction(q,head_text,tail_text))\n",
    "        append = ' What should we do first?' if history == '' else ' What should we do next?'\n",
    "        print('-'*100)\n",
    "        # print(\"History Decision:\",history)\n",
    "\n",
    "        print(\"LLM's Decision:\")\n",
    "        response = chatgpt(prompt)\n",
    "        print(response)\n",
    "        kg_res,entities,end = inference.take_action(response)\n",
    "            \n",
    "        if end:\n",
    "            print('The predicted answer is:',kg_res[0])            \n",
    "            ans = multitq.question[qid]['answers']\n",
    "            hit = inference.check_correctness(ans,kg_res[0])\n",
    "\n",
    "            if hit:\n",
    "                print('Correct!')\n",
    "                inference.history.append([['Result: Correct!']])\n",
    "                break\n",
    "            else:\n",
    "                print('Wrong!')\n",
    "                inference.history.append([['Result: Wrong!']])\n",
    "                break\n",
    "                \n",
    "        if attemp>=max_attemp:\n",
    "            print('Unable to get answer!')\n",
    "            inference.history.append([['Result: Unable to get answer!']])\n",
    "            break\n",
    "    his = inference.get_history()\n",
    "    inference.reset()\n",
    "    return hit,his"
   ]
  },
  {
   "cell_type": "code",
   "execution_count": 7,
   "id": "66d93647",
   "metadata": {},
   "outputs": [
    {
     "name": "stderr",
     "output_type": "stream",
     "text": [
      "  0%|          | 0/5 [00:00<?, ?it/s]"
     ]
    },
    {
     "name": "stdout",
     "output_type": "stream",
     "text": [
      "Question 10000: Who last wanted to negotiate with Japan before Vuk Jeremić?\n",
      "----------------------------------------------------------------------------------------------------\n",
      "Step: 0\n",
      "----------------------------------------------------------------------------------------------------\n",
      "LLM's Decision:\n",
      "Action:\n",
      "$get_tail_entity(Japan,Engage_in_negotiation,no time constraints)$\n",
      "\n",
      "Reason:\n",
      "To find out who last wanted to negotiate with Japan before Vuk Jeremić, I will retrieve the tail entity related to Japan's engagement in negotiation. This will help identify the individual or entity that expressed the intent to negotiate with Japan prior to Vuk Jeremić's involvement.\n",
      "----------------------------------------------------------------------------------------------------\n",
      "Step: 1\n",
      "----------------------------------------------------------------------------------------------------\n",
      "LLM's Decision:\n",
      "Action:\n",
      "$get_time(Vuk_Jeremić,Engage_in_negotiation,Japan)$\n",
      "\n",
      "Reason:\n",
      "To find out the specific time when Vuk Jeremić wanted to negotiate with Japan, which will help us identify the last entity that wanted to negotiate with Japan before that time. This is a crucial step in narrowing down the potential candidates for the answer.\n",
      "----------------------------------------------------------------------------------------------------\n",
      "Step: 2\n",
      "----------------------------------------------------------------------------------------------------\n",
      "LLM's Decision:\n",
      "Action: $get_head_entity(Japan,Engage_in_negotiation,no time constraints)$\n",
      "\n",
      "Reason: Since we are looking for the last entity that wanted to negotiate with Japan before Vuk Jeremić, it is essential to identify who engaged in negotiations with Japan. By retrieving the head entities that engaged in negotiations with Japan, we can then analyze the results to find the most recent negotiation before Vuk Jeremić.\n",
      "----------------------------------------------------------------------------------------------------\n",
      "Step: 3\n",
      "----------------------------------------------------------------------------------------------------\n",
      "LLM's Decision:\n",
      "Action:\n",
      "$get_before({entities}, '2012-01-01')$\n",
      "\n",
      "Reason:\n",
      "To find out who last wanted to negotiate with Japan before Vuk Jeremić, I need to identify the negotiations that occurred before a specific time related to Vuk Jeremić. Since I have not yet established a specific time for Vuk Jeremić's negotiations, I will use a general time frame (before 2012) to narrow down the potential entities that engaged in negotiations with Japan. This will help me identify the last entity that negotiated with Japan before Vuk Jeremić's involvement.\n",
      "----------------------------------------------------------------------------------------------------\n",
      "Step: 4\n",
      "----------------------------------------------------------------------------------------------------\n",
      "LLM's Decision:\n"
     ]
    },
    {
     "name": "stderr",
     "output_type": "stream",
     "text": [
      " 20%|██        | 1/5 [00:13<00:54, 13.53s/it]"
     ]
    },
    {
     "name": "stdout",
     "output_type": "stream",
     "text": [
      "Action:\n",
      "$get_head_entity(Vuk_Jeremić,Engage_in_negotiation,no time constraints)$\n",
      "\n",
      "Reason:\n",
      "Since we are looking for the last entity that wanted to negotiate with Japan before Vuk Jeremić, it is essential to identify who Vuk Jeremić engaged in negotiations with. By retrieving the head entity related to Vuk Jeremić's negotiations, we can find the relevant entities and their associated times, which will help us determine the last negotiation before him.\n",
      "Unable to get answer!\n",
      "Question 10001: Who visited France on 2 November 2011?\n",
      "----------------------------------------------------------------------------------------------------\n",
      "Step: 0\n",
      "----------------------------------------------------------------------------------------------------\n",
      "LLM's Decision:\n",
      "Action:\n",
      "$get_head_entity(France,Make_a_visit,2011-11-02)$\n",
      "\n",
      "Reason:\n",
      "I chose this action because the question specifically asks for who visited France on a particular date (2 November 2011). The relation \"Make_a_visit\" is relevant to identify the head entity (the visitor) associated with France on that date. This will help us find the correct answer to the question.\n",
      "----------------------------------------------------------------------------------------------------\n",
      "Step: 1\n",
      "----------------------------------------------------------------------------------------------------\n",
      "LLM's Decision:\n",
      "Action:\n",
      "$get_tail_entity(France,Make_a_visit,2011-11-02)$\n",
      "\n",
      "Reason:\n",
      "Since we have already identified the head entities (the visitors) who visited France on 2 November 2011, the next logical step is to retrieve the specific details about the visits, including the tail entities (the locations or events associated with those visits) for that date. This will help confirm the visitors and provide a complete answer.\n",
      "----------------------------------------------------------------------------------------------------\n",
      "Step: 2\n",
      "----------------------------------------------------------------------------------------------------\n",
      "LLM's Decision:\n",
      "Action: $get_head_entity(France,Make_a_visit,no time constraints)$\n",
      "\n",
      "Reason: Since the previous action with a specific time (2011-11-02) returned multiple entities, I will now query for all entities that visited France without any time constraints. This will help me gather a complete list of visitors to France, which may include those who visited on 2 November 2011 as well as other dates. This broader query may provide additional context or confirm the visitors on that specific date.\n",
      "----------------------------------------------------------------------------------------------------\n",
      "Step: 3\n",
      "----------------------------------------------------------------------------------------------------\n",
      "LLM's Decision:\n",
      "Action: $get_head_entity(France,Make_a_visit,no time constraints)$\n",
      "\n",
      "Reason: Since the previous action with a specific date returned multiple entities, I will now query for all entities that visited France without any time constraints. This will help me gather a broader list of visitors to France, from which I can identify those who visited on 2 November 2011.\n",
      "----------------------------------------------------------------------------------------------------\n",
      "Step: 4\n",
      "----------------------------------------------------------------------------------------------------\n",
      "LLM's Decision:\n"
     ]
    },
    {
     "name": "stderr",
     "output_type": "stream",
     "text": [
      " 40%|████      | 2/5 [00:21<00:31, 10.55s/it]"
     ]
    },
    {
     "name": "stdout",
     "output_type": "stream",
     "text": [
      "Action:\n",
      "$get_tail_entity(France,Make_a_visit,2011-11-02)$\n",
      "\n",
      "Reason:\n",
      "Since we already identified the head entities that visited France on 2 November 2011, the next logical step is to check if there are any tail entities associated with those visits on that specific date. This will help confirm the visitors and provide a complete answer to the question.\n",
      "Unable to get answer!\n",
      "Question 10002: In which year did France condemn the Militia of France?\n",
      "----------------------------------------------------------------------------------------------------\n",
      "Step: 0\n",
      "----------------------------------------------------------------------------------------------------\n",
      "LLM's Decision:\n",
      "Action:\n",
      "$get_time(France,Criticize_or_denounce,Militia_(France))$\n",
      "\n",
      "Reason:\n",
      "This action is appropriate because it directly queries the time when France condemned (criticized or denounced) the Militia of France. The relationship \"Criticize_or_denounce\" is relevant to the question, and retrieving the time associated with this action will help us find the year in which the condemnation occurred.\n",
      "----------------------------------------------------------------------------------------------------\n",
      "Step: 1\n",
      "----------------------------------------------------------------------------------------------------\n",
      "LLM's Decision:\n"
     ]
    },
    {
     "name": "stderr",
     "output_type": "stream",
     "text": [
      " 60%|██████    | 3/5 [00:25<00:14,  7.33s/it]"
     ]
    },
    {
     "name": "stdout",
     "output_type": "stream",
     "text": [
      "Action:\n",
      "$answer(2013)$\n",
      "\n",
      "Reason:\n",
      "The previous action retrieved the time when France condemned the Militia of France, which was on May 2, 2013. Since the question asks for the year, the correct answer is 2013.\n",
      "The predicted answer is: 2013\n",
      "Correct!\n",
      "Question 10003: On 28 May 2005, which country announced its intention to cooperate with Japan?\n",
      "----------------------------------------------------------------------------------------------------\n",
      "Step: 0\n",
      "----------------------------------------------------------------------------------------------------\n",
      "LLM's Decision:\n",
      "Action:\n",
      "$get_tail_entity(Japan,Express_intent_to_engage_in_diplomatic_cooperation_(such_as_policy_support),2005-05-28)$\n",
      "\n",
      "Reason:\n",
      "This action is chosen because it directly queries the relationship of Japan expressing its intent to engage in diplomatic cooperation on the specified date of 28 May 2005. This should help identify the country that announced its intention to cooperate with Japan on that date.\n",
      "----------------------------------------------------------------------------------------------------\n",
      "Step: 1\n",
      "----------------------------------------------------------------------------------------------------\n",
      "LLM's Decision:\n"
     ]
    },
    {
     "name": "stderr",
     "output_type": "stream",
     "text": [
      " 80%|████████  | 4/5 [00:28<00:05,  5.73s/it]"
     ]
    },
    {
     "name": "stdout",
     "output_type": "stream",
     "text": [
      "Action:\n",
      "$answer(China)$\n",
      "\n",
      "Reason:\n",
      "The previous action successfully identified that on 28 May 2005, China announced its intention to cooperate with Japan. Therefore, the correct answer to the question is China, and I can provide it directly using the answer function.\n",
      "The predicted answer is: China\n",
      "Wrong!\n",
      "Question 10004: After the Sudanese ministry, who was the first to express optimism about France?\n",
      "----------------------------------------------------------------------------------------------------\n",
      "Step: 0\n",
      "----------------------------------------------------------------------------------------------------\n",
      "LLM's Decision:\n",
      "Action:\n",
      "$get_tail_entity(Sudan,Make_optimistic_comment,no time constraints)$\n",
      "\n",
      "Reason:\n",
      "To find out who was the first to express optimism about France after the Sudanese ministry, I will query for the tail entity that corresponds to Sudan making an optimistic comment. This will help identify the individual or entity that expressed optimism following the Sudanese ministry's actions.\n",
      "----------------------------------------------------------------------------------------------------\n",
      "Step: 1\n",
      "----------------------------------------------------------------------------------------------------\n",
      "LLM's Decision:\n",
      "Action:\n",
      "$get_after({entities}, '2005-06-30')$\n",
      "\n",
      "Reason:\n",
      "Since we are looking for the first entity that expressed optimism about France after the Sudanese ministry's comment, we need to filter the entities that made optimistic comments after the date of the Sudanese ministry's comment (2005-06-30). This will help us identify the relevant entities in chronological order.\n",
      "----------------------------------------------------------------------------------------------------\n",
      "Step: 2\n",
      "----------------------------------------------------------------------------------------------------\n",
      "LLM's Decision:\n",
      "Action:\n",
      "$get_tail_entity(France,Make_optimistic_comment,no time constraints)$\n",
      "\n",
      "Reason:\n",
      "To find out who expressed optimism about France after the Sudanese ministry, I need to identify the entities that made optimistic comments about France. This action will help me retrieve the relevant entities and their associated times, allowing me to determine the first one to express optimism.\n",
      "----------------------------------------------------------------------------------------------------\n",
      "Step: 3\n",
      "----------------------------------------------------------------------------------------------------\n",
      "LLM's Decision:\n",
      "Action:\n",
      "$get_after({entities}, '2005-06-30')$\n",
      "\n",
      "Reason:\n",
      "We need to find out who expressed optimism about France after the Sudanese ministry's comments. Since we already have a list of entities that made optimistic comments after June 30, 2005, this action will help us identify the first entity that made such a comment after that date.\n",
      "----------------------------------------------------------------------------------------------------\n",
      "Step: 4\n",
      "----------------------------------------------------------------------------------------------------\n",
      "LLM's Decision:\n"
     ]
    },
    {
     "name": "stderr",
     "output_type": "stream",
     "text": [
      "100%|██████████| 5/5 [00:38<00:00,  7.61s/it]"
     ]
    },
    {
     "name": "stdout",
     "output_type": "stream",
     "text": [
      "Action:\n",
      "$get_tail_entity(France,Make_optimistic_comment,no time constraints)$\n",
      "\n",
      "Reason:\n",
      "To find out who made optimistic comments about France after the Sudanese ministry, I need to identify the entities that made optimistic comments related to France. This will help me determine the first entity that expressed optimism about France after the specified time.\n",
      "Unable to get answer!\n"
     ]
    },
    {
     "name": "stderr",
     "output_type": "stream",
     "text": [
      "\n"
     ]
    }
   ],
   "source": [
    "history_dict = {}\n",
    "start_id = 10000\n",
    "end_id = 10005\n",
    "for qid in tqdm.tqdm(range(start_id,end_id)):\n",
    "    hit,his = decision(qid)\n",
    "    history_dict[qid] = {'question':multitq.question[qid],'process':his,'result':hit}\n",
    "    # time.sleep(2)\n"
   ]
  },
  {
   "cell_type": "markdown",
   "id": "61b9aa1f",
   "metadata": {},
   "source": [
    "# Save history_dict"
   ]
  },
  {
   "cell_type": "code",
   "execution_count": 8,
   "id": "9b1bf9d3",
   "metadata": {},
   "outputs": [],
   "source": [
    "with open('./history_dict.pkl','wb') as f:\n",
    "    pickle.dump(history_dict,f)"
   ]
  },
  {
   "cell_type": "markdown",
   "id": "ec2e9056",
   "metadata": {},
   "source": [
    "# Evaluation"
   ]
  },
  {
   "cell_type": "code",
   "execution_count": 9,
   "id": "e7c2d42b",
   "metadata": {},
   "outputs": [
    {
     "name": "stdout",
     "output_type": "stream",
     "text": [
      "before_last \t 0.0 1\n",
      "equal \t 0.33 3\n",
      "after_first \t 0.0 1\n",
      "Overall Accuracy: 0.2\n"
     ]
    },
    {
     "data": {
      "text/plain": [
       "0.2"
      ]
     },
     "execution_count": 9,
     "metadata": {},
     "output_type": "execute_result"
    }
   ],
   "source": [
    "calculate_accuracy(history_dict)"
   ]
  },
  {
   "cell_type": "code",
   "execution_count": null,
   "id": "f5569d16",
   "metadata": {},
   "outputs": [],
   "source": []
  }
 ],
 "metadata": {
  "kernelspec": {
   "display_name": "Python 3 (ipykernel)",
   "language": "python",
   "name": "python3"
  },
  "language_info": {
   "codemirror_mode": {
    "name": "ipython",
    "version": 3
   },
   "file_extension": ".py",
   "mimetype": "text/x-python",
   "name": "python",
   "nbconvert_exporter": "python",
   "pygments_lexer": "ipython3",
   "version": "3.10.9"
  }
 },
 "nbformat": 4,
 "nbformat_minor": 5
}
