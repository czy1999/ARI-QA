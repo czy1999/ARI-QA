{
 "cells": [
  {
   "cell_type": "code",
   "execution_count": 1,
   "id": "255b2206",
   "metadata": {},
   "outputs": [],
   "source": [
    "# (Optional) Set the environment variable 'HF_ENDPOINT' to use the specified endpoint URL.\n",
    "import os\n",
    "os.environ['HF_ENDPOINT'] = 'https://hf-mirror.com'"
   ]
  },
  {
   "cell_type": "code",
   "execution_count": 2,
   "id": "faa43acf",
   "metadata": {},
   "outputs": [],
   "source": [
    "from utils import chatgpt,CronQuestions,calculate_accuracy\n",
    "from prompt import DECISION_INSTRUCTION\n",
    "import tqdm\n",
    "import time\n",
    "from cronquestions import get_actions,Inference\n",
    "import pickle"
   ]
  },
  {
   "cell_type": "markdown",
   "id": "f8a5713a",
   "metadata": {},
   "source": [
    "# Start from new"
   ]
  },
  {
   "cell_type": "code",
   "execution_count": 3,
   "id": "7b944834",
   "metadata": {
    "collapsed": true
   },
   "outputs": [],
   "source": [
    "# start from new\n",
    "cronq = CronQuestions()\n",
    "inference = Inference(cronq.kg,cronq.id2text,cronq.rel2text,history=[])\n"
   ]
  },
  {
   "cell_type": "markdown",
   "id": "0486af63",
   "metadata": {},
   "source": [
    "# or Load history_dict / inference"
   ]
  },
  {
   "cell_type": "code",
   "execution_count": 7,
   "id": "c1be7f45",
   "metadata": {},
   "outputs": [],
   "source": [
    "# start from history_dict (use method instruct)\n",
    "with open('./history_dict_sample.pkl','rb') as f:\n",
    "    history_dict = pickle.load(f)\n",
    "inference = Inference(cronq.kg,cronq.id2text,cronq.rel2text,history=history_dict,n_clusters=10)"
   ]
  },
  {
   "cell_type": "code",
   "execution_count": null,
   "id": "5cfbd7af",
   "metadata": {},
   "outputs": [],
   "source": [
    "## start from the saved inference\n",
    "# with open('../pkl_data/cronq/inference_cronq_0_200_without_examples_with_memory_round_1(10cluster).pkl','rb') as f:\n",
    "#     inference = pickle.load(f)\n",
    "\n"
   ]
  },
  {
   "cell_type": "markdown",
   "id": "ecea99ef",
   "metadata": {},
   "source": [
    "# Inference step"
   ]
  },
  {
   "cell_type": "code",
   "execution_count": 8,
   "id": "ee1993d8-b466-47e8-9caf-d01f02334d8c",
   "metadata": {
    "scrolled": false
   },
   "outputs": [],
   "source": [
    "def decision(qid):\n",
    "    inference.reset()\n",
    "    attemp = 0\n",
    "    entities = None\n",
    "    max_attemp = 5\n",
    "    q,head_text,rel_text,tail_text,t,event_text,answers,tq = cronq[qid]\n",
    "    print('Question {}:'.format(qid),q)\n",
    "    hit = False\n",
    "    while True:\n",
    "        attemp+=1\n",
    "        choose = get_actions(head_text,rel_text,tail_text,t,event_text,entities)\n",
    "        # print('All generated actions:',len(choose))\n",
    "        choose = inference.action_filter(choose)\n",
    "        if len(choose) == 0:\n",
    "            print('Unable to get answer!')\n",
    "            inference.history.append([['Result: Unable to get answer!']])\n",
    "            break\n",
    "        print('-'*100)\n",
    "        print('Step:',inference.tick)\n",
    "        print('Filtered generated actions:',len(choose))\n",
    "        choose_text = '\\n'.join(choose)\n",
    "        print(choose_text)\n",
    "\n",
    "        history = ''\n",
    "        for i in inference.history:\n",
    "            history+= '\\n'+ ' '.join(i)\n",
    "        prompt = DECISION_INSTRUCTION.replace('{question}',q)\n",
    "        prompt = prompt.replace('{actions}',choose_text)\n",
    "        prompt = prompt.replace('{history}',history if len(history)>0 else 'None')\n",
    "        # add method instruction\n",
    "        # prompt = prompt.replace('{methodology}',inference.memory.get_method_instruction(tq))\n",
    "        append = ' What should we do first?' if history == '' else ' What should we do next?'\n",
    "        print('-'*100)\n",
    "        print(\"History Decision:\",history)\n",
    "\n",
    "        print(\"LLM's Decision:\")\n",
    "        response = chatgpt(prompt)\n",
    "\n",
    "        print(response)\n",
    "        kg_res,entities,end = inference.take_action(response)  \n",
    "        if end:\n",
    "            print('The predicted answer is:',kg_res[0])            \n",
    "            ans = cronq.question[qid]['answers']\n",
    "            hit = inference.check_correctness(ans,kg_res[0])\n",
    "\n",
    "            if hit:\n",
    "                print('Correct!')\n",
    "                inference.history.append([['Result: Correct!']])\n",
    "                break\n",
    "            else:\n",
    "                print('Wrong!')\n",
    "                inference.history.append([['Result: Wrong!']])\n",
    "                break\n",
    "                \n",
    "        if attemp>=max_attemp:\n",
    "            print('Unable to get answer!')\n",
    "            inference.history.append([['Result: Unable to get answer!']])\n",
    "            break\n",
    "    his = inference.get_history()\n",
    "    inference.reset()\n",
    "    return hit,his"
   ]
  },
  {
   "cell_type": "code",
   "execution_count": 9,
   "id": "697b14a3",
   "metadata": {
    "scrolled": true
   },
   "outputs": [
    {
     "name": "stderr",
     "output_type": "stream",
     "text": [
      "  0%|          | 0/5 [00:00<?, ?it/s]"
     ]
    },
    {
     "name": "stdout",
     "output_type": "stream",
     "text": [
      "Question 10000: What year did Georges Millot get honorary doctorate\n",
      "----------------------------------------------------------------------------------------------------\n",
      "Step: 0\n",
      "Filtered generated actions: 16\n",
      "$get_tail_entity(Georges Millot,member of,no time constraints)$\n",
      "$get_head_entity(doctor honoris causa,member of,no time constraints)$\n",
      "$get_head_entity(doctor honoris causa,position held,no time constraints)$\n",
      "$get_head_entity(doctor honoris causa,honorific suffix,no time constraints)$\n",
      "$get_time(Georges Millot,award received,doctor honoris causa)$\n",
      "$get_head_entity(doctor honoris causa,affiliation,no time constraints)$\n",
      "$get_tail_entity(Georges Millot,educated at,no time constraints)$\n",
      "$get_tail_entity(Georges Millot,affiliation,no time constraints)$\n",
      "$get_head_entity(doctor honoris causa,academic degree,no time constraints)$\n",
      "$get_head_entity(doctor honoris causa,occupation,no time constraints)$\n",
      "$get_head_entity(doctor honoris causa,award received,no time constraints)$\n",
      "$get_head_entity(doctor honoris causa,honorific prefix,no time constraints)$\n",
      "$get_tail_entity(Georges Millot,occupation,no time constraints)$\n",
      "$get_head_entity(doctor honoris causa,educated at,no time constraints)$\n",
      "$get_tail_entity(Georges Millot,position held,no time constraints)$\n",
      "$get_tail_entity(Georges Millot,award received,no time constraints)$\n",
      "----------------------------------------------------------------------------------------------------\n",
      "History Decision: \n",
      "LLM's Decision:\n",
      "Action:\n",
      "$get_time(Georges Millot,award received,doctor honoris causa)$\n",
      "\n",
      "Reason:\n",
      "This action is appropriate because it directly queries the time when Georges Millot received the honorary doctorate, which is the information we need to answer the question.\n",
      "----------------------------------------------------------------------------------------------------\n",
      "Step: 1\n",
      "Filtered generated actions: 23\n",
      "$get_tail_entity(Georges Millot,member of,no time constraints)$\n",
      "$get_head_entity(doctor honoris causa,member of,no time constraints)$\n",
      "$answer(1981)$\n",
      "$get_first({entities})$\n",
      "$get_head_entity(doctor honoris causa,position held,no time constraints)$\n",
      "$get_last({entities})$\n",
      "$get_head_entity(doctor honoris causa,honorific suffix,no time constraints)$\n",
      "$get_between({entities},{your specified start time},{your specified end time})$\n",
      "$answer(1979)$\n",
      "$get_before({entities},{your specified time})$\n",
      "$get_head_entity(doctor honoris causa,affiliation,no time constraints)$\n",
      "$get_tail_entity(Georges Millot,educated at,no time constraints)$\n",
      "$get_after({entities},{your specified time})$\n",
      "$get_tail_entity(Georges Millot,affiliation,no time constraints)$\n",
      "$get_head_entity(doctor honoris causa,academic degree,no time constraints)$\n",
      "$get_head_entity(doctor honoris causa,occupation,no time constraints)$\n",
      "$get_head_entity(doctor honoris causa,award received,no time constraints)$\n",
      "$get_head_entity(doctor honoris causa,honorific prefix,no time constraints)$\n",
      "$get_tail_entity(Georges Millot,occupation,no time constraints)$\n",
      "$answer(Georges Millot)$\n",
      "$get_head_entity(doctor honoris causa,educated at,no time constraints)$\n",
      "$get_tail_entity(Georges Millot,position held,no time constraints)$\n",
      "$get_tail_entity(Georges Millot,award received,no time constraints)$\n",
      "----------------------------------------------------------------------------------------------------\n",
      "History Decision: \n",
      "Action 1: get_time(Georges Millot,award received,doctor honoris causa)\n",
      "response 1: The get_time result is \n",
      "Georges Millot award received doctor honoris causa from 1979 to 1979\n",
      "Georges Millot award received doctor honoris causa from 1981 to 1981\n",
      "...\n",
      "Georges Millot award received doctor honoris causa from 1991 to 1991\n",
      "entities = [('Georges Millot', 1979, 1979), ('Georges Millot', 1981, 1981), ('Georges Millot', 1991, 1991)]\n",
      "LLM's Decision:\n"
     ]
    },
    {
     "name": "stderr",
     "output_type": "stream",
     "text": [
      " 20%|██        | 1/5 [00:05<00:20,  5.13s/it]"
     ]
    },
    {
     "name": "stdout",
     "output_type": "stream",
     "text": [
      "Action:\n",
      "$answer(1981)$\n",
      "\n",
      "Reason:\n",
      "Based on the previous actions, we have already retrieved the years when Georges Millot received the honorary doctorate, which included 1979, 1981, and 1991. Since the question specifically asks for the year he received the honorary doctorate, and 1981 is one of the years listed, it is a correct answer.\n",
      "The predicted answer is: 1981\n",
      "Correct!\n",
      "Question 10001: What was the team Scott Parker played in 1998?\n",
      "----------------------------------------------------------------------------------------------------\n",
      "Step: 0\n",
      "Filtered generated actions: 2\n",
      "$get_tail_entity(Scott Parker,member of sports team,no time constraints)$\n",
      "$get_tail_entity(Scott Parker,member of sports team,1998)$\n",
      "----------------------------------------------------------------------------------------------------\n",
      "History Decision: \n",
      "LLM's Decision:\n",
      "Action:\n",
      "$get_tail_entity(Scott Parker,member of sports team,1998)$\n",
      "\n",
      "Reason:\n",
      "This action is specifically targeting the relationship of Scott Parker as a member of a sports team during the year 1998. By including the time constraint, we can retrieve the exact team he played for in that specific year, which is necessary to answer the question accurately.\n",
      "----------------------------------------------------------------------------------------------------\n",
      "Step: 1\n",
      "Filtered generated actions: 9\n",
      "$get_first({entities})$\n",
      "$answer(Charlton Athletic F.C.)$\n",
      "$get_tail_entity(Scott Parker,member of sports team,no time constraints)$\n",
      "$get_last({entities})$\n",
      "$get_between({entities},{your specified start time},{your specified end time})$\n",
      "$answer(1997)$\n",
      "$get_after({entities},{your specified time})$\n",
      "$answer(2004)$\n",
      "$get_before({entities},{your specified time})$\n",
      "----------------------------------------------------------------------------------------------------\n",
      "History Decision: \n",
      "Action 1: get_tail_entity(Scott Parker,member of sports team,1998)\n",
      "response 1: The get_tail_entity result is \n",
      "Scott Parker member of sports team Charlton Athletic F.C. from 1997 to 2004\n",
      "entities = [('Charlton Athletic F.C.', 1997, 2004)]\n",
      "LLM's Decision:\n"
     ]
    },
    {
     "name": "stderr",
     "output_type": "stream",
     "text": [
      " 40%|████      | 2/5 [00:08<00:12,  4.31s/it]"
     ]
    },
    {
     "name": "stdout",
     "output_type": "stream",
     "text": [
      "Action:\n",
      "$answer(Charlton Athletic F.C.)$\n",
      "\n",
      "Reason:\n",
      "The previous action confirmed that Scott Parker was a member of Charlton Athletic F.C. from 1997 to 2004, which includes the year 1998. Therefore, the correct answer to the question is Charlton Athletic F.C.\n",
      "The predicted answer is: Charlton Athletic F.C.\n",
      "Correct!\n",
      "Question 10002: The first person Carey Wilson married was\n",
      "----------------------------------------------------------------------------------------------------\n",
      "Step: 0\n",
      "Filtered generated actions: 1\n",
      "$get_tail_entity(Carey Wilson,spouse,no time constraints)$\n",
      "----------------------------------------------------------------------------------------------------\n",
      "History Decision: \n",
      "LLM's Decision:\n",
      "Action:\n",
      "$get_tail_entity(Carey Wilson,spouse,no time constraints)$\n",
      "\n",
      "Reason:\n",
      "I chose this action because it will help identify the spouse of Carey Wilson, which directly addresses the question about the first person he married. Since there are no time constraints specified, this action will retrieve the relevant information without any limitations.\n",
      "----------------------------------------------------------------------------------------------------\n",
      "Step: 1\n",
      "Filtered generated actions: 8\n",
      "$get_first({entities})$\n",
      "$answer(1934)$\n",
      "$get_last({entities})$\n",
      "$get_between({entities},{your specified start time},{your specified end time})$\n",
      "$answer(1962)$\n",
      "$answer(Carmelita Geraghty)$\n",
      "$get_after({entities},{your specified time})$\n",
      "$get_before({entities},{your specified time})$\n",
      "----------------------------------------------------------------------------------------------------\n",
      "History Decision: \n",
      "Action 1: get_tail_entity(Carey Wilson,spouse,no time constraints)\n",
      "response 1: The get_tail_entity result is \n",
      "Carey Wilson spouse Carmelita Geraghty from 1934 to 1962\n",
      "entities = [('Carmelita Geraghty', 1934, 1962)]\n",
      "LLM's Decision:\n"
     ]
    },
    {
     "name": "stderr",
     "output_type": "stream",
     "text": [
      " 60%|██████    | 3/5 [00:12<00:07,  3.89s/it]"
     ]
    },
    {
     "name": "stdout",
     "output_type": "stream",
     "text": [
      "Action:\n",
      "$answer(Carmelita Geraghty)$\n",
      "\n",
      "Reason:\n",
      "The previous action identified that Carey Wilson's spouse was Carmelita Geraghty, and since the question asks for the first person Carey Wilson married, this is the correct answer.\n",
      "The predicted answer is: Carmelita Geraghty\n",
      "Correct!\n",
      "Question 10003: What was the final award Isadore Manuel Singer received?\n",
      "----------------------------------------------------------------------------------------------------\n",
      "Step: 0\n",
      "Filtered generated actions: 1\n",
      "$get_tail_entity(Isadore Singer,award received,no time constraints)$\n",
      "----------------------------------------------------------------------------------------------------\n",
      "History Decision: \n",
      "LLM's Decision:\n",
      "Action:\n",
      "$get_tail_entity(Isadore Singer,award received,no time constraints)$\n",
      "\n",
      "Reason:\n",
      "This action is appropriate because it will help identify the specific awards that Isadore Singer received, without any time constraints, allowing us to find the final award he received.\n",
      "----------------------------------------------------------------------------------------------------\n",
      "Step: 1\n",
      "Filtered generated actions: 9\n",
      "$get_first({entities})$\n",
      "$answer(Abel Prize)$\n",
      "$answer(National Medal of Science)$\n",
      "$get_last({entities})$\n",
      "$get_between({entities},{your specified start time},{your specified end time})$\n",
      "$get_after({entities},{your specified time})$\n",
      "$answer(1983)$\n",
      "$answer(2004)$\n",
      "$get_before({entities},{your specified time})$\n",
      "----------------------------------------------------------------------------------------------------\n",
      "History Decision: \n",
      "Action 1: get_tail_entity(Isadore Singer,award received,no time constraints)\n",
      "response 1: The get_tail_entity result is \n",
      "Isadore Singer award received National Medal of Science from 1983 to 1983\n",
      "Isadore Singer award received Wigner Medal from 1988 to 1988\n",
      "...\n",
      "Isadore Singer award received Honorary doctoral degree of the Pierre and Marie Curie University from 2005 to 2005\n",
      "entities = [('National Medal of Science', 1983, 1983), ('Wigner Medal', 1988, 1988), '...', ('Honorary doctoral degree of the Pierre and Marie Curie University', 2005, 2005)]\n",
      "LLM's Decision:\n",
      "Action:\n",
      "$get_last({entities})$\n",
      "\n",
      "Reason:\n",
      "I chose this action because we are looking for the final award received by Isadore Singer. The $get_last$ function will help us identify the most recent award from the list of awards he received, which is essential to answer the question accurately.\n",
      "----------------------------------------------------------------------------------------------------\n",
      "Step: 2\n",
      "Filtered generated actions: 6\n",
      "$answer(Honorary doctoral degree of the Pierre and Marie Curie University)$\n",
      "$get_first({entities})$\n",
      "$get_between({entities},{your specified start time},{your specified end time})$\n",
      "$get_after({entities},{your specified time})$\n",
      "$get_before({entities},{your specified time})$\n",
      "$answer(2005)$\n",
      "----------------------------------------------------------------------------------------------------\n",
      "History Decision: \n",
      "Action 1: get_tail_entity(Isadore Singer,award received,no time constraints)\n",
      "response 1: The get_tail_entity result is \n",
      "Isadore Singer award received National Medal of Science from 1983 to 1983\n",
      "Isadore Singer award received Wigner Medal from 1988 to 1988\n",
      "...\n",
      "Isadore Singer award received Honorary doctoral degree of the Pierre and Marie Curie University from 2005 to 2005\n",
      "entities = [('National Medal of Science', 1983, 1983), ('Wigner Medal', 1988, 1988), '...', ('Honorary doctoral degree of the Pierre and Marie Curie University', 2005, 2005)]\n",
      "Action 2: get_last({entities})\n",
      "response 2: The get_last result is \n",
      "Honorary doctoral degree of the Pierre and Marie Curie University from 2005 to 2005\n",
      "entities = [('Honorary doctoral degree of the Pierre and Marie Curie University', 2005, 2005)]\n",
      "LLM's Decision:\n"
     ]
    },
    {
     "name": "stderr",
     "output_type": "stream",
     "text": [
      " 80%|████████  | 4/5 [00:17<00:04,  4.29s/it]"
     ]
    },
    {
     "name": "stdout",
     "output_type": "stream",
     "text": [
      "Action:\n",
      "$answer(Honorary doctoral degree of the Pierre and Marie Curie University)$\n",
      "\n",
      "Reason:\n",
      "The previous actions have already identified that the last award received by Isadore Manuel Singer was the Honorary doctoral degree of the Pierre and Marie Curie University in 2005. Since this is the final award he received, it directly answers the question.\n",
      "The predicted answer is: Honorary doctoral degree of the Pierre and Marie Curie University\n",
      "Correct!\n",
      "Question 10004: What is the last time that Elliott Frank Johnston was Justice of the Supreme Court of South Australia\n",
      "----------------------------------------------------------------------------------------------------\n",
      "Step: 0\n",
      "Filtered generated actions: 5\n",
      "$get_tail_entity(Elliott Johnston,position held,no time constraints)$\n",
      "$get_time(Elliott Johnston,position held,Justice of the South Australian Supreme Court)$\n",
      "$get_head_entity(Justice of the South Australian Supreme Court,position held,no time constraints)$\n",
      "$get_head_entity(Justice of the South Australian Supreme Court,award received,no time constraints)$\n",
      "$get_tail_entity(Elliott Johnston,award received,no time constraints)$\n",
      "----------------------------------------------------------------------------------------------------\n",
      "History Decision: \n",
      "LLM's Decision:\n",
      "Action:\n",
      "$get_time(Elliott Johnston,position held,Justice of the South Australian Supreme Court)$\n",
      "\n",
      "Reason:\n",
      "This action will retrieve the specific time when Elliott Frank Johnston held the position of Justice of the Supreme Court of South Australia. Since the question asks for the last time he held this position, this query is directly relevant to uncovering that information.\n",
      "----------------------------------------------------------------------------------------------------\n",
      "Step: 1\n",
      "Filtered generated actions: 12\n",
      "$answer(Elliott Johnston)$\n",
      "$get_tail_entity(Elliott Johnston,position held,no time constraints)$\n",
      "$get_head_entity(Justice of the South Australian Supreme Court,position held,no time constraints)$\n",
      "$get_first({entities})$\n",
      "$answer(1988)$\n",
      "$get_last({entities})$\n",
      "$get_head_entity(Justice of the South Australian Supreme Court,award received,no time constraints)$\n",
      "$get_between({entities},{your specified start time},{your specified end time})$\n",
      "$get_after({entities},{your specified time})$\n",
      "$answer(1983)$\n",
      "$get_before({entities},{your specified time})$\n",
      "$get_tail_entity(Elliott Johnston,award received,no time constraints)$\n",
      "----------------------------------------------------------------------------------------------------\n",
      "History Decision: \n",
      "Action 1: get_time(Elliott Johnston,position held,Justice of the South Australian Supreme Court)\n",
      "response 1: The get_time result is \n",
      "Elliott Johnston position held Justice of the South Australian Supreme Court from 1983 to 1988\n",
      "entities = [('Elliott Johnston', 1983, 1988)]\n",
      "LLM's Decision:\n"
     ]
    },
    {
     "name": "stderr",
     "output_type": "stream",
     "text": [
      "100%|██████████| 5/5 [00:21<00:00,  4.21s/it]"
     ]
    },
    {
     "name": "stdout",
     "output_type": "stream",
     "text": [
      "Action:\n",
      "$answer(1988)$\n",
      "\n",
      "Reason:\n",
      "The previous action retrieved the time period during which Elliott Frank Johnston held the position of Justice of the Supreme Court of South Australia, which was from 1983 to 1988. Since the question asks for the last time he held that position, the correct answer is 1988.\n",
      "The predicted answer is: 1988\n",
      "Correct!\n"
     ]
    },
    {
     "name": "stderr",
     "output_type": "stream",
     "text": [
      "\n"
     ]
    }
   ],
   "source": [
    "history_dict = {}\n",
    "start_id = 10000\n",
    "end_id = 10005\n",
    "for qid in tqdm.tqdm(range(start_id,end_id)):\n",
    "    hit,his = decision(qid)\n",
    "    history_dict[qid] = {'question':cronq.question[qid],'process':his,'result':hit}\n",
    "    # time.sleep(2)\n"
   ]
  },
  {
   "cell_type": "markdown",
   "id": "4b4180f0",
   "metadata": {},
   "source": [
    "# Save the history_dict "
   ]
  },
  {
   "cell_type": "code",
   "execution_count": 10,
   "id": "5ffa5353",
   "metadata": {},
   "outputs": [],
   "source": [
    "with open('./test_history_dict.pkl','wb') as f:\n",
    "    pickle.dump(history_dict,f)"
   ]
  },
  {
   "cell_type": "markdown",
   "id": "2f4787eb",
   "metadata": {},
   "source": [
    "# Evaluation"
   ]
  },
  {
   "cell_type": "code",
   "execution_count": 8,
   "id": "59ccfa1f",
   "metadata": {},
   "outputs": [
    {
     "name": "stdout",
     "output_type": "stream",
     "text": [
      "simple_entity \t 0.9 63\n",
      "time_join \t 0.09 23\n",
      "first_last \t 0.74 70\n",
      "simple_time \t 0.9 30\n",
      "before_after \t 0.0 12\n",
      "Overall Accuracy: 0.696969696969697\n"
     ]
    },
    {
     "data": {
      "text/plain": [
       "0.696969696969697"
      ]
     },
     "execution_count": 8,
     "metadata": {},
     "output_type": "execute_result"
    }
   ],
   "source": [
    "calculate_accuracy(history_dict)"
   ]
  },
  {
   "cell_type": "code",
   "execution_count": null,
   "id": "d4173a51",
   "metadata": {},
   "outputs": [],
   "source": []
  }
 ],
 "metadata": {
  "kernelspec": {
   "display_name": "Python 3 (ipykernel)",
   "language": "python",
   "name": "python3"
  },
  "language_info": {
   "codemirror_mode": {
    "name": "ipython",
    "version": 3
   },
   "file_extension": ".py",
   "mimetype": "text/x-python",
   "name": "python",
   "nbconvert_exporter": "python",
   "pygments_lexer": "ipython3",
   "version": "3.10.9"
  }
 },
 "nbformat": 4,
 "nbformat_minor": 5
}
